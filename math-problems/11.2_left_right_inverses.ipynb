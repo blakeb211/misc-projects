{
 "cells": [
  {
   "cell_type": "code",
   "execution_count": 2,
   "metadata": {},
   "outputs": [],
   "source": [
    "import numpy as np\n",
    "import numpy.matlib as mat\n",
    "import numpy.linalg as lin\n",
    "from IPython import InteractiveShell\n",
    "import matplotlib\n",
    "from matplotlib import pyplot\n",
    "InteractiveShell.ast_node_interactivity = 'all'\n",
    "%matplotlib inline"
   ]
  },
  {
   "cell_type": "markdown",
   "metadata": {},
   "source": [
    "### 11.2 Left and right inverses of a vector. \n",
    "Suppose that x is a nonzero n-vector with n > 1.\n",
    "- Does x have a left inverse?\n",
    "- Does x have a right inverse?\n",
    "- If yes, give formula for inverse, if no, give a counterexample.\n"
   ]
  },
  {
   "cell_type": "code",
   "execution_count": 3,
   "metadata": {},
   "outputs": [
    {
     "data": {
      "text/plain": [
       "matrix([[1],\n",
       "        [2],\n",
       "        [3],\n",
       "        [4]])"
      ]
     },
     "execution_count": 3,
     "metadata": {},
     "output_type": "execute_result"
    },
    {
     "name": "stdout",
     "output_type": "stream",
     "text": [
      "Identity for an n-vector = \n"
     ]
    },
    {
     "data": {
      "text/plain": [
       "array([[1.]])"
      ]
     },
     "execution_count": 3,
     "metadata": {},
     "output_type": "execute_result"
    },
    {
     "name": "stdout",
     "output_type": "stream",
     "text": [
      "Frobenius Norm =\n"
     ]
    },
    {
     "data": {
      "text/plain": [
       "30.0"
      ]
     },
     "execution_count": 3,
     "metadata": {},
     "output_type": "execute_result"
    },
    {
     "name": "stdout",
     "output_type": "stream",
     "text": [
      "Left Inverse =\n"
     ]
    },
    {
     "data": {
      "text/plain": [
       "matrix([[0.00111111, 0.00222222, 0.00333333, 0.00444444]])"
      ]
     },
     "execution_count": 3,
     "metadata": {},
     "output_type": "execute_result"
    },
    {
     "name": "stdout",
     "output_type": "stream",
     "text": [
      "Proof: AleftInv @ x = \n"
     ]
    },
    {
     "data": {
      "text/plain": [
       "matrix([[0.03333333]])"
      ]
     },
     "execution_count": 3,
     "metadata": {},
     "output_type": "execute_result"
    }
   ],
   "source": [
    "# Note that the identity of an n-vector is 1.\n",
    "x = np.mat(\"1 2 3 4\").T; x\n",
    "print(\"Identity for an n-vector = \")\n",
    "I = np.eye(1); I\n",
    "print(\"Frobenius Norm =\")\n",
    "froNorm_sqrd = np.float64(x.T @ x); froNorm_sqrd\n",
    "print(\"Left Inverse =\")\n",
    "ALeftInv = (x/froNorm_sqrd**2).T; ALeftInv\n",
    "print(\"Proof: AleftInv @ x = \")\n",
    "ALeftInv @ x\n",
    "# For a right inverse, one cannot exist because the dimension of x is (n x 1) and there is no\n",
    "# matrix or vector multiplication operation we can do on it to get a 1x1."
   ]
  },
  {
   "cell_type": "code",
   "execution_count": 6,
   "metadata": {},
   "outputs": [
    {
     "data": {
      "text/plain": [
       "matrix([[-3, -4],\n",
       "        [ 4,  6],\n",
       "        [ 1,  1]])"
      ]
     },
     "execution_count": 6,
     "metadata": {},
     "output_type": "execute_result"
    },
    {
     "data": {
      "text/plain": [
       "matrix([[-1.22222222, -1.11111111,  1.77777778],\n",
       "        [ 0.77777778,  0.88888889, -1.22222222]])"
      ]
     },
     "execution_count": 6,
     "metadata": {},
     "output_type": "execute_result"
    }
   ],
   "source": [
    "# Extra exploration 11.2\n",
    "A = np.mat(\"-3 -4;4 6;1 1\"); A\n",
    "leftInv = lin.pinv(A); leftInv"
   ]
  }
 ],
 "metadata": {
  "kernelspec": {
   "display_name": "Python 3.10.5 ('my-env')",
   "language": "python",
   "name": "python3"
  },
  "language_info": {
   "codemirror_mode": {
    "name": "ipython",
    "version": 3
   },
   "file_extension": ".py",
   "mimetype": "text/x-python",
   "name": "python",
   "nbconvert_exporter": "python",
   "pygments_lexer": "ipython3",
   "version": "3.10.5"
  },
  "orig_nbformat": 4,
  "vscode": {
   "interpreter": {
    "hash": "d474be476f0a6db94789ad08b16ede00cb8654a4c727ed769fba79dc07ed6ebd"
   }
  }
 },
 "nbformat": 4,
 "nbformat_minor": 2
}
