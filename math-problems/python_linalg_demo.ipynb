{
 "cells": [
  {
   "cell_type": "code",
   "execution_count": 1,
   "metadata": {},
   "outputs": [],
   "source": [
    "import numpy as np\n",
    "import numpy.matlib as mat\n",
    "import numpy.linalg as lin\n",
    "from IPython import InteractiveShell\n",
    "import matplotlib\n",
    "from matplotlib import pyplot\n",
    "InteractiveShell.ast_node_interactivity = 'all'\n",
    "%matplotlib inline\n"
   ]
  },
  {
   "cell_type": "code",
   "execution_count": 2,
   "metadata": {},
   "outputs": [
    {
     "data": {
      "text/plain": [
       "matrix([[ 1,  2,  4],\n",
       "        [-1,  2,  1],\n",
       "        [ 0,  1,  0]])"
      ]
     },
     "execution_count": 2,
     "metadata": {},
     "output_type": "execute_result"
    }
   ],
   "source": [
    "M = mat.mat(\"1 2 4;-1 2 1;0 1 0\").reshape((3, 3))\n",
    "M\n"
   ]
  },
  {
   "cell_type": "code",
   "execution_count": 3,
   "metadata": {},
   "outputs": [
    {
     "data": {
      "text/plain": [
       "numpy.matrix"
      ]
     },
     "execution_count": 3,
     "metadata": {},
     "output_type": "execute_result"
    },
    {
     "data": {
      "text/plain": [
       "(3, 3)"
      ]
     },
     "execution_count": 3,
     "metadata": {},
     "output_type": "execute_result"
    }
   ],
   "source": [
    "type(M)\n",
    "M.shape\n"
   ]
  },
  {
   "cell_type": "markdown",
   "metadata": {},
   "source": [
    "# Matrix inverses exist only if determinant != 0"
   ]
  },
  {
   "cell_type": "code",
   "execution_count": 4,
   "metadata": {},
   "outputs": [
    {
     "data": {
      "text/plain": [
       "-4.999999999999999"
      ]
     },
     "execution_count": 4,
     "metadata": {},
     "output_type": "execute_result"
    },
    {
     "data": {
      "text/plain": [
       "matrix([[ 0.2, -0.8,  1.2],\n",
       "        [ 0. ,  0. ,  1. ],\n",
       "        [ 0.2,  0.2, -0.8]])"
      ]
     },
     "execution_count": 4,
     "metadata": {},
     "output_type": "execute_result"
    }
   ],
   "source": [
    "lin.det(M)\n",
    "assert(not np.isclose(lin.det(M), 0))\n",
    "lin.inv(M)\n"
   ]
  },
  {
   "cell_type": "code",
   "execution_count": 5,
   "metadata": {},
   "outputs": [
    {
     "data": {
      "text/plain": [
       "matrix([[ True,  True,  True],\n",
       "        [ True,  True,  True],\n",
       "        [ True,  True,  True]])"
      ]
     },
     "execution_count": 5,
     "metadata": {},
     "output_type": "execute_result"
    },
    {
     "data": {
      "text/plain": [
       "matrix([[ True,  True,  True],\n",
       "        [ True,  True,  True],\n",
       "        [ True,  True,  True]])"
      ]
     },
     "execution_count": 5,
     "metadata": {},
     "output_type": "execute_result"
    }
   ],
   "source": [
    "# Demonstrate inversion worked\n",
    "np.isclose(M @ lin.inv(M), mat.eye(3, 3))\n",
    "# Matrix times its inverse ==  inverse times the matrix\n",
    "np.isclose(lin.inv(M) @ M, mat.eye(3, 3))\n"
   ]
  },
  {
   "cell_type": "code",
   "execution_count": 6,
   "metadata": {},
   "outputs": [
    {
     "data": {
      "text/plain": [
       "matrix([[1, 2, 3]])"
      ]
     },
     "execution_count": 6,
     "metadata": {},
     "output_type": "execute_result"
    },
    {
     "data": {
      "text/plain": [
       "(1, 3)"
      ]
     },
     "execution_count": 6,
     "metadata": {},
     "output_type": "execute_result"
    }
   ],
   "source": [
    "# Shape of a single dimension matrix\n",
    "v_single_dim = mat.mat(\"1 2 3\")\n",
    "v_single_dim\n",
    "v_single_dim.shape\n"
   ]
  },
  {
   "cell_type": "code",
   "execution_count": 7,
   "metadata": {},
   "outputs": [
    {
     "data": {
      "text/plain": [
       "array([1, 2, 3])"
      ]
     },
     "execution_count": 7,
     "metadata": {},
     "output_type": "execute_result"
    },
    {
     "data": {
      "text/plain": [
       "(3,)"
      ]
     },
     "execution_count": 7,
     "metadata": {},
     "output_type": "execute_result"
    }
   ],
   "source": [
    "# Shape of a single dimension array\n",
    "a_single_dim = np.array([1, 2, 3])\n",
    "a_single_dim\n",
    "a_single_dim.shape\n"
   ]
  },
  {
   "cell_type": "code",
   "execution_count": 8,
   "metadata": {},
   "outputs": [
    {
     "data": {
      "text/plain": [
       "(3, 1)"
      ]
     },
     "execution_count": 8,
     "metadata": {},
     "output_type": "execute_result"
    }
   ],
   "source": [
    "# Convert 1d array to matrix to correct the shape\n",
    "v = np.mat(np.array([1, 2, 3]))\n",
    "v = v.transpose()\n",
    "v.shape\n"
   ]
  },
  {
   "cell_type": "code",
   "execution_count": 9,
   "metadata": {},
   "outputs": [
    {
     "data": {
      "text/plain": [
       "matrix([[1],\n",
       "        [2],\n",
       "        [3]])"
      ]
     },
     "execution_count": 9,
     "metadata": {},
     "output_type": "execute_result"
    },
    {
     "data": {
      "text/plain": [
       "matrix([[3],\n",
       "        [6],\n",
       "        [9]])"
      ]
     },
     "execution_count": 9,
     "metadata": {},
     "output_type": "execute_result"
    },
    {
     "data": {
      "text/plain": [
       "matrix([[3],\n",
       "        [4],\n",
       "        [5]])"
      ]
     },
     "execution_count": 9,
     "metadata": {},
     "output_type": "execute_result"
    }
   ],
   "source": [
    "# Element-wise addition and multiplication\n",
    "v\n",
    "v * 3\n",
    "v + 2\n"
   ]
  },
  {
   "cell_type": "markdown",
   "metadata": {},
   "source": [
    "# Inner product amd Cross Product"
   ]
  },
  {
   "cell_type": "code",
   "execution_count": 10,
   "metadata": {},
   "outputs": [
    {
     "data": {
      "text/plain": [
       "matrix([[14]])"
      ]
     },
     "execution_count": 10,
     "metadata": {},
     "output_type": "execute_result"
    },
    {
     "data": {
      "text/plain": [
       "matrix([[1, 2, 3],\n",
       "        [2, 4, 6],\n",
       "        [3, 6, 9]])"
      ]
     },
     "execution_count": 10,
     "metadata": {},
     "output_type": "execute_result"
    }
   ],
   "source": [
    "v.transpose()@v  # inner product of a vector is a scalar\n",
    "v@v.transpose()  # v v^T  of a vector is a matrix\n"
   ]
  },
  {
   "cell_type": "code",
   "execution_count": 11,
   "metadata": {},
   "outputs": [
    {
     "data": {
      "text/plain": [
       "matrix([[ 0.5],\n",
       "        [-1. ],\n",
       "        [ 1. ]])"
      ]
     },
     "execution_count": 11,
     "metadata": {},
     "output_type": "execute_result"
    },
    {
     "data": {
      "text/plain": [
       "matrix([[1],\n",
       "        [2],\n",
       "        [3]])"
      ]
     },
     "execution_count": 11,
     "metadata": {},
     "output_type": "execute_result"
    },
    {
     "data": {
      "text/plain": [
       "array([[-5. , -0.5,  2. ]])"
      ]
     },
     "execution_count": 11,
     "metadata": {},
     "output_type": "execute_result"
    }
   ],
   "source": [
    "w = np.mat(\"0.5;-1;1\")\n",
    "w\n",
    "v\n",
    "np.cross(w.transpose(), v.transpose())\n"
   ]
  },
  {
   "cell_type": "code",
   "execution_count": 12,
   "metadata": {},
   "outputs": [
    {
     "data": {
      "text/plain": [
       "array([0])"
      ]
     },
     "execution_count": 12,
     "metadata": {},
     "output_type": "execute_result"
    },
    {
     "data": {
      "text/plain": [
       "array([[2, 8, 2]])"
      ]
     },
     "execution_count": 12,
     "metadata": {},
     "output_type": "execute_result"
    }
   ],
   "source": [
    "np.cross(np.mat([1, -1]), np.mat([-1, 1]))  # 2D cross product is single number\n",
    "# 3D cross product is a vector\n",
    "np.cross(np.mat([1, -1, 3]), np.mat([3, -1, 1]))\n",
    "# Cross product operation is ONLY defined for 2- and 3-vectors\n"
   ]
  },
  {
   "cell_type": "markdown",
   "metadata": {},
   "source": [
    "# Eigenvalues and Eigenvectors\n",
    "$A u = \\lambda  u$    \n",
    "where $A \\in R^{n,n}$.  \n",
    "$u$ is eigenvector   \n",
    "$\\lambda$ is eigenvalue\n",
    "   \n",
    "This can be thought of as \"multiplying by u scales A by lambda\".  \n",
    "\n",
    "\n",
    "Rearranging top equation, it has a solution if and only if $det(A-\\lambda I) = 0$   \n",
    "The eigenvalues are the roots of this determinant, which is a polynomial in $\\lambda$."
   ]
  },
  {
   "cell_type": "code",
   "execution_count": 15,
   "metadata": {},
   "outputs": [],
   "source": [
    "def get_matrix_and_eigenvals_and_eigenvecs():\n",
    "    np.set_printoptions(precision=3, suppress=True)\n",
    "    count = 0\n",
    "    for i in range(10000):\n",
    "        _m = np.round(mat.mat(np.random.randint(\n",
    "            1, 10, size=9)).reshape(3, 3)*1)\n",
    "        if np.isclose(lin.det(_m), 0.0):\n",
    "            count += 1\n",
    "            lam, u = lin.eig(_m)\n",
    "            print(\"matrix\".center(20,\"-\"))\n",
    "            print(_m)\n",
    "            print(\"eigenvecs\".center(20,\"-\"))\n",
    "            print(u)\n",
    "            print(\"eigenvals\".center(20,\"-\"))\n",
    "            print(lam)\n",
    "            print(\"-\"*20)\n",
    "            return lam, u, _m\n"
   ]
  },
  {
   "cell_type": "code",
   "execution_count": 16,
   "metadata": {},
   "outputs": [
    {
     "name": "stdout",
     "output_type": "stream",
     "text": [
      "-------matrix-------\n",
      "[[6 2 2]\n",
      " [3 1 2]\n",
      " [9 3 8]]\n",
      "-----eigenvecs------\n",
      "[[ 0.358  0.53   0.316]\n",
      " [ 0.251 -0.063 -0.949]\n",
      " [ 0.899 -0.845  0.   ]]\n",
      "-----eigenvals------\n",
      "[12.424  2.576 -0.   ]\n",
      "--------------------\n",
      "shapes: (3, 3) (3, 1)\n",
      "----------------------------------------\n",
      "A @ u         ===     lam * u\n",
      "----------------------------------------\n",
      "LHS:\n",
      "[[ 4.45]\n",
      " [ 3.12]\n",
      " [11.17]]\n",
      "RHS:\n",
      "[[ 4.45]\n",
      " [ 3.12]\n",
      " [11.17]]\n",
      "----------------------------------------\n",
      "shapes: (3, 3) (3, 1)\n",
      "----------------------------------------\n",
      "A @ u         ===     lam * u\n",
      "----------------------------------------\n",
      "LHS:\n",
      "[[ 1.37]\n",
      " [-0.16]\n",
      " [-2.18]]\n",
      "RHS:\n",
      "[[ 1.37]\n",
      " [-0.16]\n",
      " [-2.18]]\n",
      "----------------------------------------\n",
      "shapes: (3, 3) (3, 1)\n",
      "----------------------------------------\n",
      "A @ u         ===     lam * u\n",
      "----------------------------------------\n",
      "LHS:\n",
      "[[-0.]\n",
      " [-0.]\n",
      " [-0.]]\n",
      "RHS:\n",
      "[[-0.]\n",
      " [ 0.]\n",
      " [ 0.]]\n",
      "----------------------------------------\n"
     ]
    }
   ],
   "source": [
    "lams, us, A = get_matrix_and_eigenvals_and_eigenvecs()\n",
    "# check eigenvalues and eigenvectors\n",
    "np.set_printoptions(precision=2)\n",
    "for i in range(len(lams)):\n",
    "    lam, u = lams[i], us[:,i]\n",
    "    print(\"shapes:\", A.shape, u.shape)\n",
    "    print(\"--\"*20)\n",
    "    print(\"A @ u         ===     lam * u\")\n",
    "    print(\"--\"*20)\n",
    "    print(\"LHS:\")\n",
    "    print(A.dot(u))\n",
    "    print(\"RHS:\")\n",
    "    print(u * lam)\n",
    "    print(\"--\"*20)\n"
   ]
  },
  {
   "cell_type": "markdown",
   "metadata": {},
   "source": [
    "# Singular Value Decomposition (SVD)\n",
    "- Decompose a matrix into 3 matrices"
   ]
  },
  {
   "cell_type": "code",
   "execution_count": 17,
   "metadata": {},
   "outputs": [
    {
     "data": {
      "text/plain": [
       "(matrix([[-0.44,  0.88,  0.19],\n",
       "         [-0.26,  0.08, -0.96],\n",
       "         [-0.86, -0.47,  0.19]]),\n",
       " array([14.38,  2.29,  0.  ]),\n",
       " matrix([[-0.78, -0.26, -0.58],\n",
       "         [ 0.55,  0.18, -0.82],\n",
       "         [ 0.32, -0.95, -0.  ]]))"
      ]
     },
     "execution_count": 17,
     "metadata": {},
     "output_type": "execute_result"
    }
   ],
   "source": [
    "U, S, Vtranspose = np.linalg.svd(A)\n",
    "U, S, Vtranspose"
   ]
  },
  {
   "cell_type": "code",
   "execution_count": 18,
   "metadata": {},
   "outputs": [
    {
     "data": {
      "text/plain": [
       "matrix([[ 0.5, -0.5],\n",
       "        [ 0. ,  0. ]])"
      ]
     },
     "execution_count": 18,
     "metadata": {},
     "output_type": "execute_result"
    }
   ],
   "source": [
    "# Pseudo Inverse\n",
    "B= np.mat(\"1 0;-1 0\")\n",
    "Bpseudo = lin.pinv(B)\n",
    "Bpseudo\n"
   ]
  },
  {
   "cell_type": "code",
   "execution_count": 19,
   "metadata": {},
   "outputs": [
    {
     "data": {
      "text/plain": [
       "matrix([[ 0.5, -0.5],\n",
       "        [-0.5,  0.5]])"
      ]
     },
     "execution_count": 19,
     "metadata": {},
     "output_type": "execute_result"
    },
    {
     "data": {
      "text/plain": [
       "matrix([[1., 0.],\n",
       "        [0., 0.]])"
      ]
     },
     "execution_count": 19,
     "metadata": {},
     "output_type": "execute_result"
    },
    {
     "data": {
      "text/plain": [
       "matrix([[-2,  2],\n",
       "        [ 0,  0]])"
      ]
     },
     "execution_count": 19,
     "metadata": {},
     "output_type": "execute_result"
    }
   ],
   "source": [
    "# demonstrate B and Bpseudo\n",
    "B @ Bpseudo\n",
    "Bpseudo @ B\n",
    "B.T @ (B@B.T).__invert__()"
   ]
  },
  {
   "cell_type": "code",
   "execution_count": 20,
   "metadata": {},
   "outputs": [
    {
     "data": {
      "text/plain": [
       "matrix([[-0.59, -0.46],\n",
       "        [ 0.78, -0.52],\n",
       "        [ 0.2 ,  0.72]])"
      ]
     },
     "execution_count": 20,
     "metadata": {},
     "output_type": "execute_result"
    },
    {
     "data": {
      "text/plain": [
       "matrix([[ 5.1 ,  7.26],\n",
       "        [ 0.  , -0.59]])"
      ]
     },
     "execution_count": 20,
     "metadata": {},
     "output_type": "execute_result"
    }
   ],
   "source": [
    "# Demonstrate pseudo inverse for solving over-determined system of linear equations\n",
    "A = np.mat(\"-3 -4;4 6;1 1\")\n",
    "b = np.mat(\"1;-2;0\")\n",
    "q,r = lin.qr(A)\n",
    "q\n",
    "r"
   ]
  },
  {
   "cell_type": "code",
   "execution_count": 21,
   "metadata": {},
   "outputs": [
    {
     "data": {
      "text/plain": [
       "matrix([[-1.22, -1.11,  1.78],\n",
       "        [ 0.78,  0.89, -1.22]])"
      ]
     },
     "execution_count": 21,
     "metadata": {},
     "output_type": "execute_result"
    }
   ],
   "source": [
    "Apseudo = lin.inv(r) @ q.T\n",
    "Apseudo"
   ]
  },
  {
   "cell_type": "code",
   "execution_count": 22,
   "metadata": {},
   "outputs": [
    {
     "data": {
      "text/plain": [
       "matrix([[ 1.],\n",
       "        [-1.]])"
      ]
     },
     "execution_count": 22,
     "metadata": {},
     "output_type": "execute_result"
    }
   ],
   "source": [
    "x = Apseudo.dot(b)\n",
    "x"
   ]
  },
  {
   "cell_type": "code",
   "execution_count": 23,
   "metadata": {},
   "outputs": [
    {
     "data": {
      "text/plain": [
       "matrix([[ 1.],\n",
       "        [-2.],\n",
       "        [-0.]])"
      ]
     },
     "execution_count": 23,
     "metadata": {},
     "output_type": "execute_result"
    }
   ],
   "source": [
    "A.dot(x)"
   ]
  }
 ],
 "metadata": {
  "kernelspec": {
   "display_name": "Python 3.10.5 ('my-env')",
   "language": "python",
   "name": "python3"
  },
  "language_info": {
   "codemirror_mode": {
    "name": "ipython",
    "version": 3
   },
   "file_extension": ".py",
   "mimetype": "text/x-python",
   "name": "python",
   "nbconvert_exporter": "python",
   "pygments_lexer": "ipython3",
   "version": "3.10.5"
  },
  "orig_nbformat": 4,
  "vscode": {
   "interpreter": {
    "hash": "d474be476f0a6db94789ad08b16ede00cb8654a4c727ed769fba79dc07ed6ebd"
   }
  }
 },
 "nbformat": 4,
 "nbformat_minor": 2
}
